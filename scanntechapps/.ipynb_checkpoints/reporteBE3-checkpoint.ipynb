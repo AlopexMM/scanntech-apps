{
 "cells": [
  {
   "cell_type": "markdown",
   "metadata": {},
   "source": [
    "# Reporte Uy\n",
    "\n",
    "Uruguay solicita un reporte en el cual solo se visualicen clientes de base 3 que se encuentren instalados para pasar a BE 3\n",
    "\n",
    "Termina quedando un reporte del listado de clientes de base uno, dos y tres"
   ]
  },
  {
   "cell_type": "code",
   "execution_count": 93,
   "metadata": {},
   "outputs": [],
   "source": [
    "import pandas as pd\n",
    "from os import path"
   ]
  },
  {
   "cell_type": "code",
   "execution_count": 94,
   "metadata": {},
   "outputs": [],
   "source": [
    "path = \"/home/mario/Descargas/kreporter.csv\""
   ]
  },
  {
   "cell_type": "code",
   "execution_count": 95,
   "metadata": {},
   "outputs": [],
   "source": [
    "csv = pd.read_csv(path,sep=\",\", encoding=\"latin-1\",dtype={\"Num. de cliente\":str})"
   ]
  },
  {
   "cell_type": "code",
   "execution_count": 96,
   "metadata": {},
   "outputs": [],
   "source": [
    "# Borramos las columnas que no se necesitan\n",
    "csv.drop([\"Apellidos\",\n",
    "     \"Lider\",\n",
    "     \"Nro Unico\",\n",
    "     \"Nombre Fantasia\",\n",
    "    \"Direccion\",\n",
    "    \"Ciudad\",\n",
    "    \"Integrador\",\n",
    "    \"Estado / Provincia\",\n",
    "    \"Zona\",\n",
    "    \"Supermercado Oriental:\",\n",
    "    \"Fecha Estimada para Comenzar la Instalacion\",\n",
    "    \"Fecha de Finalizacion de la Instalacion\",\n",
    "    \"RUT/CUIT/CNPJ\",\n",
    "    \"Unnamed: 15\"],axis=\"columns\",inplace=True)"
   ]
  },
  {
   "cell_type": "code",
   "execution_count": 97,
   "metadata": {},
   "outputs": [],
   "source": [
    "# Borramos todas las lineas que tengan una celda vacia\n",
    "csv.dropna(inplace=True)"
   ]
  },
  {
   "cell_type": "code",
   "execution_count": 99,
   "metadata": {},
   "outputs": [],
   "source": [
    "# Renombramos las columnas que nos quedan para trabajar mejor\n",
    "columna_renombrada = {\"Num. de cliente\":\"num_cliente\",\n",
    "                     \"Status (de Operaciones)\":\"status\"}\n",
    "csv.rename(columns=columna_renombrada,inplace=True)"
   ]
  },
  {
   "cell_type": "code",
   "execution_count": 101,
   "metadata": {},
   "outputs": [],
   "source": [
    "# Pasamos a int todos los valores de num_cliente antes de filtrar los datos\n",
    "csv.insert(loc=0,\n",
    "           column=\"numcliente\",\n",
    "           value=csv[\"num_cliente\"].astype(int))"
   ]
  },
  {
   "cell_type": "code",
   "execution_count": 102,
   "metadata": {},
   "outputs": [],
   "source": [
    "# Eliminamos la columna que esta de mas\n",
    "csv.drop(\"num_cliente\",axis=\"columns\",inplace=True)"
   ]
  },
  {
   "cell_type": "code",
   "execution_count": null,
   "metadata": {},
   "outputs": [],
   "source": [
    "# Filtro para clientes de base 1\n",
    "csv_base3 = csv[((csv.numcliente >= 10000) & (csv.numcliente <= 10499)) & ((csv.status == \"Instalado\") | (csv.status == \"Corte_Admin_Caja\"))]\n",
    "csv_base3 = csv_base3[\"numcliente\"].drop_duplicates(keep=\"first\")"
   ]
  },
  {
   "cell_type": "code",
   "execution_count": null,
   "metadata": {},
   "outputs": [],
   "source": [
    "# Filtro para clientes de base 2\n",
    "csv_base2 = csv[((csv.numcliente >= 10500) & (csv.numcliente <= 10999)) & ((csv.status == \"Instalado\") | (csv.status == \"Corte_Admin_Caja\"))]\n",
    "csv_base2 = csv_base3[\"numcliente\"].drop_duplicates(keep=\"first\")"
   ]
  },
  {
   "cell_type": "code",
   "execution_count": 103,
   "metadata": {},
   "outputs": [],
   "source": [
    "# Filtro para clientes de base tres\n",
    "csv_base3 = csv[((csv.numcliente >= 11000) & (csv.numcliente <= 11999)) & ((csv.status == \"Instalado\") | (csv.status == \"Corte_Admin_Caja\"))]\n",
    "csv_base3 = csv_base3[\"numcliente\"].drop_duplicates(keep=\"first\")"
   ]
  },
  {
   "cell_type": "code",
   "execution_count": null,
   "metadata": {},
   "outputs": [],
   "source": [
    "csv_base1.to_csv(\"/home/mario/Documentos/base1.csv\", encoding=\"latin-1\", index=False,mode=\"w\", header=\"Cliente\")"
   ]
  },
  {
   "cell_type": "code",
   "execution_count": null,
   "metadata": {},
   "outputs": [],
   "source": [
    "csv_base2.to_csv(\"/home/mario/Documentos/base2.csv\", encoding=\"latin-1\", index=False,mode=\"w\", header=\"Cliente\")"
   ]
  },
  {
   "cell_type": "code",
   "execution_count": 105,
   "metadata": {},
   "outputs": [],
   "source": [
    "csv_base3.to_csv(\"/home/mario/Documentos/base3.csv\", encoding=\"latin-1\", index=False,mode=\"w\", header=\"Cliente\")"
   ]
  },
  {
   "cell_type": "code",
   "execution_count": null,
   "metadata": {},
   "outputs": [],
   "source": []
  }
 ],
 "metadata": {
  "kernelspec": {
   "display_name": "Python 3.7.4 64-bit ('base': conda)",
   "language": "python",
   "name": "python37464bitbaseconda649fdd46e31240cb866a62f187d64505"
  },
  "language_info": {
   "codemirror_mode": {
    "name": "ipython",
    "version": 3
   },
   "file_extension": ".py",
   "mimetype": "text/x-python",
   "name": "python",
   "nbconvert_exporter": "python",
   "pygments_lexer": "ipython3",
   "version": "3.7.4"
  }
 },
 "nbformat": 4,
 "nbformat_minor": 4
}
