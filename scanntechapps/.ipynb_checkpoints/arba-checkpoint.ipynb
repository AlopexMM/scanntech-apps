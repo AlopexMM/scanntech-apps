{
 "cells": [
  {
   "cell_type": "markdown",
   "metadata": {},
   "source": [
    "# ARBA\n",
    "\n",
    "## Formato del reporte\n",
    "\n",
    "|Descripción| Formato| Long.| Dec.| Desde| Hasta| Observación|\n",
    "|:----------|:-------|:-----|:----|:-----|:-----|:-----------|\n",
    "|Cuit contribuyente Percibido| Alfanumérico| 13| |1| 13| Formato 99-99999999-9|\n",
    "|Fecha Percepción| Fecha| 10|| 14| 23| Formato dd/mm/aaaa. Debe corresponder al periodo declarado.|\n",
    "|Tipo de Comprobante| Texto| 1|| 24| 24| Valores F=Factura, R=Recibo , C=Nota Crédito, D =Nota Debito.|\n",
    "|Letra Comprobante| Texto| 1|| 25| 25| Valores A,B,C, o “ ” (blanco)|\n",
    "|Numero Sucursal| Numérico| 4|| 26| 29| Mayor a cero. Completar con ceros a la izquierda.|\n",
    "|Numero Emisión| Numérico| 8|| 30| 37| Mayor a cero. Completar con ceros a la izquierda.|\n",
    "|Monto imponible| Numérico| 12| 2| 38| 49| Con separador decimal (, o.). Mayor a cero, o Excepto para Nota de crédito, donde el importe debe ser negativo y la base debe ser menor o igual a cero. Completar con ceros a la izquierda. En las notas de crédito el signo negativo ocupará la primera posición a la izquierda. |\n",
    "|Importe de Percepción| Numérico| 11| 2| 50| 60| Con separador decimal (, o.). Mayor a cero, excepto para notas de crédito donde debe ser negativo. Completar con ceros a la izquierda. En las notas de crédito el signo negativo ocupará la primera posición a la izquierda.|\n",
    "|Tipo Operación| Texto| 1|| 61| 61| A= Alta, B=Baja, M=Modificación.|\n",
    "\n",
    "\n",
    "Linea ejemplo: 30-71531396-718/10/2019FA001000009762000000914.2400000036.56a"
   ]
  },
  {
   "cell_type": "code",
   "execution_count": 160,
   "metadata": {},
   "outputs": [],
   "source": [
    "from os import path\n",
    "\n",
    "import pandas as pd"
   ]
  },
  {
   "cell_type": "code",
   "execution_count": 179,
   "metadata": {},
   "outputs": [],
   "source": [
    "# Funciones genericas\n",
    "def grabar(datos,nombre):\n",
    "        with open(nombre,\"w\",encoding=\"latin-1\") as file:\n",
    "                file.writelines(datos)\n",
    "        return\n",
    "    \n",
    "def valores_genericos(rango, valor):\n",
    "    # Rango es el tamaño de la lista y valor es el dato que va a contener\n",
    "    lista = []\n",
    "    for x in range(rango):\n",
    "        lista.append(valor)\n",
    "    return lista\n",
    "\n",
    "def arreglo_fecha(fechas):\n",
    "    lista = []\n",
    "    for x in fechas:\n",
    "        lista.append(x.strftime(\"%d/%m/%Y\"))\n",
    "    return lista\n",
    "\n",
    "def pasar_string(datos,fill=None,decimal=None):\n",
    "    lista = []\n",
    "    if decimal:\n",
    "        for x in datos:\n",
    "            x = format(x,\".2f\")\n",
    "            lista.append(str(x).zfill(fill))\n",
    "    elif decimal == False:\n",
    "        for x in datos:\n",
    "            x = str(x).split(\".\")\n",
    "            lista.append(x[0].zfill(fill))\n",
    "    else:\n",
    "        for x in range(len(datos)):\n",
    "            d = str(datos[x])\n",
    "            lista.append(d.zfill(fill))\n",
    "    return lista\n",
    "\n",
    "def escribir_reporte(datos,ater=False,arba=False):\n",
    "    if ater:\n",
    "        return grabar(datos,\"~/scanntech-apps/docs/ater.txt\")\n",
    "    if arba:\n",
    "        return grabar(datos,\"~/scanntech-apps/docs/arba.txt\")\n",
    "    return\n",
    "\n",
    "def cuitMod(cuits):\n",
    "    lista = []\n",
    "    for cuit in cuits:\n",
    "        cabeza = cuit[0:2]\n",
    "        cuerpo = cuit[2:10]\n",
    "        cola = cuit[10:]\n",
    "        lista.append(cabeza + \"-\" + cuerpo + \"-\" + cola)\n",
    "    return lista\n"
   ]
  },
  {
   "cell_type": "code",
   "execution_count": 180,
   "metadata": {},
   "outputs": [],
   "source": [
    "excel_archivo = \"/home/mario/scanntech-apps/docs/tickets.xlsx\"\n",
    "padron = \"/home/mario/scanntech-apps/docs/PadronRGSPer112019.txt\" # Archivo de arba, esto tiene que ser dinamico en el futuro"
   ]
  },
  {
   "cell_type": "code",
   "execution_count": 181,
   "metadata": {},
   "outputs": [],
   "source": [
    "# Cargamos el excel de los tickets\n",
    "tipos_datos = {\"Registradora\":int,\n",
    "              \"Nro.Operación\":int,\n",
    "               \"Nro.Documento\":str}\n",
    "excel = pd.read_excel(excel_archivo, header=2, skipfooter=15,convert_float=False,dtype=tipos_datos)"
   ]
  },
  {
   "cell_type": "code",
   "execution_count": 182,
   "metadata": {},
   "outputs": [],
   "source": [
    "# Quitamos las columnas que no usamos en esta etapa\n",
    "columnas_quitar = [\"Fecha Operación\",\"Cliente\",\"Cajero\",\"Importe Retención\",\"Documento\"]\n",
    "excel.drop(columnas_quitar,axis=\"columns\",inplace=True)"
   ]
  },
  {
   "cell_type": "code",
   "execution_count": 183,
   "metadata": {},
   "outputs": [],
   "source": [
    "# Completamos las celdas vacias del tipo de factura\n",
    "excel[\"Tipo de Factura\"].fillna(\"A\", inplace=True)"
   ]
  },
  {
   "cell_type": "code",
   "execution_count": 184,
   "metadata": {},
   "outputs": [],
   "source": [
    "# Obtenemos la posicion en la que va la columna total sin iva\n",
    "prefix_total_siva = excel.columns.get_loc(\"Nro.Documento\")\n",
    "\n",
    "# Insertamos la columna total sin iva\n",
    "excel.insert(loc=prefix_total_siva,column=\"TotalSinIva\", value=excel[\"Total\"] - excel[\"IVA\"])\n",
    "\n",
    "#Quitamos las columnas total e iva ya que no las vamos a necesitar mas\n",
    "columnas_quitar = [\"Total\",\"IVA\"]\n",
    "excel.drop(columnas_quitar,axis=\"columns\",inplace=True)"
   ]
  },
  {
   "cell_type": "code",
   "execution_count": 185,
   "metadata": {},
   "outputs": [],
   "source": [
    "# Procesamos el archivo de de ARBA y creamos un data frame\n",
    "\n",
    "padron_arba_df = pd.read_csv(padron,sep=\";\",header=None,names=[\"NumeroCuit\",\"AlicuotaPercepcion\"],usecols=[4,8],decimal=\",\")"
   ]
  },
  {
   "cell_type": "code",
   "execution_count": 186,
   "metadata": {},
   "outputs": [],
   "source": [
    "padron_arba = padron_arba_df.set_index(\"NumeroCuit\")"
   ]
  },
  {
   "cell_type": "code",
   "execution_count": 187,
   "metadata": {},
   "outputs": [],
   "source": [
    "# Insertamos la columna alicuota que contenga los porcentajes del padron que encuentre\n",
    "# Recorremos el listado de cuit del excel y genero una columna para insertar al dataframe\n",
    "prefix_alicuota = excel.columns.get_loc(\"Nro.Documento\")\n",
    "\n",
    "valores_alicuota = []\n",
    "\n",
    "for documento in excel[\"Nro.Documento\"]:\n",
    "    valores_alicuota.append(padron_arba.AlicuotaPercepcion.get(int(documento),default=0.00))\n",
    "\n",
    "excel.insert(loc=prefix_alicuota,column=\"alicuota\",value=valores_alicuota)"
   ]
  },
  {
   "cell_type": "code",
   "execution_count": 188,
   "metadata": {},
   "outputs": [],
   "source": [
    "# Creamos una columna con el calculo del monto percibido\n",
    "prefix_monto_percibido = excel.columns.get_loc(\"Nro.Documento\")\n",
    "\n",
    "# Insertamos la columna\n",
    "excel.insert(loc=prefix_monto_percibido,column=\"montoPercibido\",value=(excel.TotalSinIva * excel.alicuota / 100))"
   ]
  },
  {
   "cell_type": "code",
   "execution_count": 189,
   "metadata": {},
   "outputs": [],
   "source": [
    "# Creamos un data frame que contenga solo las alicuotas qeu se pueden presentar\n",
    "excel_reporte = excel[excel.alicuota > 0.0]"
   ]
  },
  {
   "cell_type": "code",
   "execution_count": 191,
   "metadata": {},
   "outputs": [
    {
     "ename": "KeyError",
     "evalue": "4",
     "output_type": "error",
     "traceback": [
      "\u001b[0;31m---------------------------------------------------------------------------\u001b[0m",
      "\u001b[0;31mKeyError\u001b[0m                                  Traceback (most recent call last)",
      "\u001b[0;32m<ipython-input-191-d83ac19e7536>\u001b[0m in \u001b[0;36m<module>\u001b[0;34m\u001b[0m\n\u001b[1;32m      4\u001b[0m     \u001b[0;34m\"tipoComprobante\"\u001b[0m\u001b[0;34m:\u001b[0m \u001b[0mvalores_genericos\u001b[0m\u001b[0;34m(\u001b[0m\u001b[0mexcel_reporte\u001b[0m\u001b[0;34m[\u001b[0m\u001b[0;34m\"Nro.Documento\"\u001b[0m\u001b[0;34m]\u001b[0m\u001b[0;34m.\u001b[0m\u001b[0mcount\u001b[0m\u001b[0;34m(\u001b[0m\u001b[0;34m)\u001b[0m\u001b[0;34m,\u001b[0m\u001b[0;34m\"F\"\u001b[0m\u001b[0;34m)\u001b[0m\u001b[0;34m,\u001b[0m\u001b[0;34m\u001b[0m\u001b[0;34m\u001b[0m\u001b[0m\n\u001b[1;32m      5\u001b[0m     \u001b[0;34m\"letraComprobante\"\u001b[0m\u001b[0;34m:\u001b[0m \u001b[0mexcel_reporte\u001b[0m\u001b[0;34m[\u001b[0m\u001b[0;34m\"Tipo de Factura\"\u001b[0m\u001b[0;34m]\u001b[0m\u001b[0;34m,\u001b[0m\u001b[0;34m\u001b[0m\u001b[0;34m\u001b[0m\u001b[0m\n\u001b[0;32m----> 6\u001b[0;31m     \u001b[0;34m\"numeroSucursal\"\u001b[0m\u001b[0;34m:\u001b[0m \u001b[0mpasar_string\u001b[0m\u001b[0;34m(\u001b[0m\u001b[0mexcel_reporte\u001b[0m\u001b[0;34m[\u001b[0m\u001b[0;34m\"Registradora\"\u001b[0m\u001b[0;34m]\u001b[0m\u001b[0;34m,\u001b[0m\u001b[0mfill\u001b[0m\u001b[0;34m=\u001b[0m\u001b[0;36m4\u001b[0m\u001b[0;34m)\u001b[0m\u001b[0;34m,\u001b[0m\u001b[0;34m\u001b[0m\u001b[0;34m\u001b[0m\u001b[0m\n\u001b[0m\u001b[1;32m      7\u001b[0m     \u001b[0;34m\"numeroEmision\"\u001b[0m\u001b[0;34m:\u001b[0m \u001b[0mpasar_string\u001b[0m\u001b[0;34m(\u001b[0m\u001b[0mexcel_reporte\u001b[0m\u001b[0;34m[\u001b[0m\u001b[0;34m\"Nro.Operación\"\u001b[0m\u001b[0;34m]\u001b[0m\u001b[0;34m,\u001b[0m\u001b[0mfill\u001b[0m\u001b[0;34m=\u001b[0m\u001b[0;36m8\u001b[0m\u001b[0;34m)\u001b[0m\u001b[0;34m,\u001b[0m\u001b[0;34m\u001b[0m\u001b[0;34m\u001b[0m\u001b[0m\n\u001b[1;32m      8\u001b[0m     \u001b[0;34m\"montoImponible\"\u001b[0m\u001b[0;34m:\u001b[0m \u001b[0mpasar_string\u001b[0m\u001b[0;34m(\u001b[0m\u001b[0mexcel_reporte\u001b[0m\u001b[0;34m[\u001b[0m\u001b[0;34m\"TotalSinIva\"\u001b[0m\u001b[0;34m]\u001b[0m\u001b[0;34m,\u001b[0m\u001b[0mfill\u001b[0m\u001b[0;34m=\u001b[0m\u001b[0;36m12\u001b[0m\u001b[0;34m,\u001b[0m\u001b[0mdecimal\u001b[0m\u001b[0;34m=\u001b[0m\u001b[0;32mTrue\u001b[0m\u001b[0;34m)\u001b[0m\u001b[0;34m,\u001b[0m\u001b[0;34m\u001b[0m\u001b[0;34m\u001b[0m\u001b[0m\n",
      "\u001b[0;32m<ipython-input-179-e33e0b8c535a>\u001b[0m in \u001b[0;36mpasar_string\u001b[0;34m(datos, fill, decimal)\u001b[0m\n\u001b[1;32m     30\u001b[0m     \u001b[0;32melse\u001b[0m\u001b[0;34m:\u001b[0m\u001b[0;34m\u001b[0m\u001b[0;34m\u001b[0m\u001b[0m\n\u001b[1;32m     31\u001b[0m         \u001b[0;32mfor\u001b[0m \u001b[0mx\u001b[0m \u001b[0;32min\u001b[0m \u001b[0mrange\u001b[0m\u001b[0;34m(\u001b[0m\u001b[0mlen\u001b[0m\u001b[0;34m(\u001b[0m\u001b[0mdatos\u001b[0m\u001b[0;34m)\u001b[0m\u001b[0;34m)\u001b[0m\u001b[0;34m:\u001b[0m\u001b[0;34m\u001b[0m\u001b[0;34m\u001b[0m\u001b[0m\n\u001b[0;32m---> 32\u001b[0;31m             \u001b[0mlista\u001b[0m\u001b[0;34m.\u001b[0m\u001b[0mappend\u001b[0m\u001b[0;34m(\u001b[0m\u001b[0mstr\u001b[0m\u001b[0;34m(\u001b[0m\u001b[0mdatos\u001b[0m\u001b[0;34m[\u001b[0m\u001b[0mx\u001b[0m\u001b[0;34m]\u001b[0m\u001b[0;34m)\u001b[0m\u001b[0;34m.\u001b[0m\u001b[0mzfill\u001b[0m\u001b[0;34m(\u001b[0m\u001b[0mfill\u001b[0m\u001b[0;34m)\u001b[0m\u001b[0;34m)\u001b[0m\u001b[0;34m\u001b[0m\u001b[0;34m\u001b[0m\u001b[0m\n\u001b[0m\u001b[1;32m     33\u001b[0m     \u001b[0;32mreturn\u001b[0m \u001b[0mlista\u001b[0m\u001b[0;34m\u001b[0m\u001b[0;34m\u001b[0m\u001b[0m\n\u001b[1;32m     34\u001b[0m \u001b[0;34m\u001b[0m\u001b[0m\n",
      "\u001b[0;32m~/anaconda3/lib/python3.7/site-packages/pandas/core/series.py\u001b[0m in \u001b[0;36m__getitem__\u001b[0;34m(self, key)\u001b[0m\n\u001b[1;32m   1066\u001b[0m         \u001b[0mkey\u001b[0m \u001b[0;34m=\u001b[0m \u001b[0mcom\u001b[0m\u001b[0;34m.\u001b[0m\u001b[0mapply_if_callable\u001b[0m\u001b[0;34m(\u001b[0m\u001b[0mkey\u001b[0m\u001b[0;34m,\u001b[0m \u001b[0mself\u001b[0m\u001b[0;34m)\u001b[0m\u001b[0;34m\u001b[0m\u001b[0;34m\u001b[0m\u001b[0m\n\u001b[1;32m   1067\u001b[0m         \u001b[0;32mtry\u001b[0m\u001b[0;34m:\u001b[0m\u001b[0;34m\u001b[0m\u001b[0;34m\u001b[0m\u001b[0m\n\u001b[0;32m-> 1068\u001b[0;31m             \u001b[0mresult\u001b[0m \u001b[0;34m=\u001b[0m \u001b[0mself\u001b[0m\u001b[0;34m.\u001b[0m\u001b[0mindex\u001b[0m\u001b[0;34m.\u001b[0m\u001b[0mget_value\u001b[0m\u001b[0;34m(\u001b[0m\u001b[0mself\u001b[0m\u001b[0;34m,\u001b[0m \u001b[0mkey\u001b[0m\u001b[0;34m)\u001b[0m\u001b[0;34m\u001b[0m\u001b[0;34m\u001b[0m\u001b[0m\n\u001b[0m\u001b[1;32m   1069\u001b[0m \u001b[0;34m\u001b[0m\u001b[0m\n\u001b[1;32m   1070\u001b[0m             \u001b[0;32mif\u001b[0m \u001b[0;32mnot\u001b[0m \u001b[0mis_scalar\u001b[0m\u001b[0;34m(\u001b[0m\u001b[0mresult\u001b[0m\u001b[0;34m)\u001b[0m\u001b[0;34m:\u001b[0m\u001b[0;34m\u001b[0m\u001b[0;34m\u001b[0m\u001b[0m\n",
      "\u001b[0;32m~/anaconda3/lib/python3.7/site-packages/pandas/core/indexes/base.py\u001b[0m in \u001b[0;36mget_value\u001b[0;34m(self, series, key)\u001b[0m\n\u001b[1;32m   4728\u001b[0m         \u001b[0mk\u001b[0m \u001b[0;34m=\u001b[0m \u001b[0mself\u001b[0m\u001b[0;34m.\u001b[0m\u001b[0m_convert_scalar_indexer\u001b[0m\u001b[0;34m(\u001b[0m\u001b[0mk\u001b[0m\u001b[0;34m,\u001b[0m \u001b[0mkind\u001b[0m\u001b[0;34m=\u001b[0m\u001b[0;34m\"getitem\"\u001b[0m\u001b[0;34m)\u001b[0m\u001b[0;34m\u001b[0m\u001b[0;34m\u001b[0m\u001b[0m\n\u001b[1;32m   4729\u001b[0m         \u001b[0;32mtry\u001b[0m\u001b[0;34m:\u001b[0m\u001b[0;34m\u001b[0m\u001b[0;34m\u001b[0m\u001b[0m\n\u001b[0;32m-> 4730\u001b[0;31m             \u001b[0;32mreturn\u001b[0m \u001b[0mself\u001b[0m\u001b[0;34m.\u001b[0m\u001b[0m_engine\u001b[0m\u001b[0;34m.\u001b[0m\u001b[0mget_value\u001b[0m\u001b[0;34m(\u001b[0m\u001b[0ms\u001b[0m\u001b[0;34m,\u001b[0m \u001b[0mk\u001b[0m\u001b[0;34m,\u001b[0m \u001b[0mtz\u001b[0m\u001b[0;34m=\u001b[0m\u001b[0mgetattr\u001b[0m\u001b[0;34m(\u001b[0m\u001b[0mseries\u001b[0m\u001b[0;34m.\u001b[0m\u001b[0mdtype\u001b[0m\u001b[0;34m,\u001b[0m \u001b[0;34m\"tz\"\u001b[0m\u001b[0;34m,\u001b[0m \u001b[0;32mNone\u001b[0m\u001b[0;34m)\u001b[0m\u001b[0;34m)\u001b[0m\u001b[0;34m\u001b[0m\u001b[0;34m\u001b[0m\u001b[0m\n\u001b[0m\u001b[1;32m   4731\u001b[0m         \u001b[0;32mexcept\u001b[0m \u001b[0mKeyError\u001b[0m \u001b[0;32mas\u001b[0m \u001b[0me1\u001b[0m\u001b[0;34m:\u001b[0m\u001b[0;34m\u001b[0m\u001b[0;34m\u001b[0m\u001b[0m\n\u001b[1;32m   4732\u001b[0m             \u001b[0;32mif\u001b[0m \u001b[0mlen\u001b[0m\u001b[0;34m(\u001b[0m\u001b[0mself\u001b[0m\u001b[0;34m)\u001b[0m \u001b[0;34m>\u001b[0m \u001b[0;36m0\u001b[0m \u001b[0;32mand\u001b[0m \u001b[0;34m(\u001b[0m\u001b[0mself\u001b[0m\u001b[0;34m.\u001b[0m\u001b[0mholds_integer\u001b[0m\u001b[0;34m(\u001b[0m\u001b[0;34m)\u001b[0m \u001b[0;32mor\u001b[0m \u001b[0mself\u001b[0m\u001b[0;34m.\u001b[0m\u001b[0mis_boolean\u001b[0m\u001b[0;34m(\u001b[0m\u001b[0;34m)\u001b[0m\u001b[0;34m)\u001b[0m\u001b[0;34m:\u001b[0m\u001b[0;34m\u001b[0m\u001b[0;34m\u001b[0m\u001b[0m\n",
      "\u001b[0;32mpandas/_libs/index.pyx\u001b[0m in \u001b[0;36mpandas._libs.index.IndexEngine.get_value\u001b[0;34m()\u001b[0m\n",
      "\u001b[0;32mpandas/_libs/index.pyx\u001b[0m in \u001b[0;36mpandas._libs.index.IndexEngine.get_value\u001b[0;34m()\u001b[0m\n",
      "\u001b[0;32mpandas/_libs/index.pyx\u001b[0m in \u001b[0;36mpandas._libs.index.IndexEngine.get_loc\u001b[0;34m()\u001b[0m\n",
      "\u001b[0;32mpandas/_libs/hashtable_class_helper.pxi\u001b[0m in \u001b[0;36mpandas._libs.hashtable.Int64HashTable.get_item\u001b[0;34m()\u001b[0m\n",
      "\u001b[0;32mpandas/_libs/hashtable_class_helper.pxi\u001b[0m in \u001b[0;36mpandas._libs.hashtable.Int64HashTable.get_item\u001b[0;34m()\u001b[0m\n",
      "\u001b[0;31mKeyError\u001b[0m: 4"
     ]
    }
   ],
   "source": [
    "datos_reportes = {\n",
    "    \"cuit\": cuitMod(excel_reporte[\"Nro.Documento\"]),\n",
    "    \"fechaPercepcion\": arreglo_fecha(fechas=excel_reporte[\"Fecha\"]),\n",
    "    \"tipoComprobante\": valores_genericos(excel_reporte[\"Nro.Documento\"].count(),\"F\"),\n",
    "    \"letraComprobante\": excel_reporte[\"Tipo de Factura\"],\n",
    "    \"numeroSucursal\": pasar_string(excel_reporte[\"Registradora\"],fill=4),\n",
    "    \"numeroEmision\": pasar_string(excel_reporte[\"Nro.Operación\"],fill=8),\n",
    "    \"montoImponible\": pasar_string(excel_reporte[\"TotalSinIva\"],fill=12,decimal=True),\n",
    "    \"importePercepcion\": pasar_string(excel_reporte[\"montoPercibido\"],fill=11,decimal=True),\n",
    "    \"tipoOperacion\": valores_genericos(excel_reporte[\"Nro.Documento\"].count(),\"a\")\n",
    "}"
   ]
  },
  {
   "cell_type": "code",
   "execution_count": null,
   "metadata": {},
   "outputs": [],
   "source": []
  }
 ],
 "metadata": {
  "kernelspec": {
   "display_name": "Python 3.7.4 64-bit ('base': conda)",
   "language": "python",
   "name": "python37464bitbaseconda649fdd46e31240cb866a62f187d64505"
  },
  "language_info": {
   "codemirror_mode": {
    "name": "ipython",
    "version": 3
   },
   "file_extension": ".py",
   "mimetype": "text/x-python",
   "name": "python",
   "nbconvert_exporter": "python",
   "pygments_lexer": "ipython3",
   "version": "3.7.4"
  }
 },
 "nbformat": 4,
 "nbformat_minor": 4
}
