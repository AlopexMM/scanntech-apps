{
 "cells": [
  {
   "cell_type": "markdown",
   "metadata": {},
   "source": [
    "# ARBA\n",
    "\n",
    "## Formato del reporte\n",
    "\n",
    "|Descripción| Formato| Long.| Dec.| Desde| Hasta| Observación|\n",
    "|:----------|:-------|:-----|:----|:-----|:-----|:-----------|\n",
    "|Cuit contribuyente Percibido| Alfanumérico| 13| |1| 13| Formato 99-99999999-9|\n",
    "|Fecha Percepción| Fecha| 10|| 14| 23| Formato dd/mm/aaaa. Debe corresponder al periodo declarado.|\n",
    "|Tipo de Comprobante| Texto| 1|| 24| 24| Valores F=Factura, R=Recibo , C=Nota Crédito, D =Nota Debito.|\n",
    "|Letra Comprobante| Texto| 1|| 25| 25| Valores A,B,C, o “ ” (blanco)|\n",
    "|Numero Sucursal| Numérico| 4|| 26| 29| Mayor a cero. Completar con ceros a la izquierda.|\n",
    "|Numero Emisión| Numérico| 8|| 30| 37| Mayor a cero. Completar con ceros a la izquierda.|\n",
    "|Monto imponible| Numérico| 12| 2| 38| 49| Con separador decimal (, o.). Mayor a cero, o Excepto para Nota de crédito, donde el importe debe ser negativo y la base debe ser menor o igual a cero. Completar con ceros a la izquierda. En las notas de crédito el signo negativo ocupará la primera posición a la izquierda. |\n",
    "|Importe de Percepción| Numérico| 11| 2| 50| 60| Con separador decimal (, o.). Mayor a cero, excepto para notas de crédito donde debe ser negativo. Completar con ceros a la izquierda. En las notas de crédito el signo negativo ocupará la primera posición a la izquierda.|\n",
    "|Tipo Operación| Texto| 1|| 61| 61| A= Alta, B=Baja, M=Modificación.|\n"
   ]
  },
  {
   "cell_type": "code",
   "execution_count": 1,
   "metadata": {},
   "outputs": [],
   "source": [
    "from os import path\n",
    "from re import compile\n",
    "\n",
    "import datetime\n",
    "\n",
    "import pandas as pd\n",
    "from generico import generico\n",
    "arba = generico.ArbaAter\n"
   ]
  },
  {
   "cell_type": "code",
   "execution_count": 2,
   "metadata": {},
   "outputs": [],
   "source": [
    "excel = \"/home/mario/scanntech-apps/docs/tickets.xlsx\""
   ]
  },
  {
   "cell_type": "code",
   "execution_count": 22,
   "metadata": {},
   "outputs": [
    {
     "data": {
      "text/plain": [
       "dtype('<M8[ns]')"
      ]
     },
     "execution_count": 22,
     "metadata": {},
     "output_type": "execute_result"
    }
   ],
   "source": [
    "excel_df = pd.read_excel(excel, header=2, skipfooter=15,convert_float=False)\n",
    "\n",
    "excel_df[\"Tipo de Factura\"].fillna(\"A\", inplace=True)\n",
    "\n",
    "# Obtenemos la posicion en la que va la columna total sin iva\n",
    "prefix_total_siva = excel_df.columns.get_loc(\"Importe Retención\")\n",
    "excel_df.insert(loc=prefix_total_siva,\n",
    "                column=\"Total sin IVA\",\n",
    "                value=excel_df[\"Total\"] - excel_df[\"IVA\"])\n",
    "\n",
    "pd.to_datetime(excel_df[\"Fecha\"], format=\"%d/%m/%Y\", errors=\"ignore\").dtypes"
   ]
  },
  {
   "cell_type": "code",
   "execution_count": 10,
   "metadata": {},
   "outputs": [],
   "source": [
    "# Procesamos el archivo de de ARBA y creamos un data frame\n",
    "\n",
    "padron_arba = \"/home/mario/scanntech-apps/docs/PadronRGSPer112019.txt\" # Archivo de arba, esto tiene que ser dinamico en el futuro\n",
    "\n",
    "padron_arba_df = pd.read_csv(padron_arba,sep=\";\",header=None,names=[\"Número - Cuit\",\"Alícuota-Percepción\"],usecols=[4,8])\n",
    "\n",
    "padron_arba_df.set_index(\"Número - Cuit\",inplace=True)"
   ]
  },
  {
   "cell_type": "code",
   "execution_count": 58,
   "metadata": {},
   "outputs": [],
   "source": [
    "# Pruebas para obtener valores del dataframe\n",
    "#padron_arba_df.at[20000000028,\"Alícuota-Percepción\"]\n",
    "#padron_arba_df.head()"
   ]
  },
  {
   "cell_type": "code",
   "execution_count": 63,
   "metadata": {},
   "outputs": [
    {
     "ename": "AttributeError",
     "evalue": "'Series' object has no attribute 'strftime'",
     "output_type": "error",
     "traceback": [
      "\u001b[0;31m---------------------------------------------------------------------------\u001b[0m",
      "\u001b[0;31mAttributeError\u001b[0m                            Traceback (most recent call last)",
      "\u001b[0;32m<ipython-input-63-93df9a774c48>\u001b[0m in \u001b[0;36m<module>\u001b[0;34m\u001b[0m\n\u001b[1;32m      1\u001b[0m \u001b[0;31m# Obtenemos un dataframe que contenga las alicuotas para cada cuit\u001b[0m\u001b[0;34m\u001b[0m\u001b[0;34m\u001b[0m\u001b[0;34m\u001b[0m\u001b[0m\n\u001b[1;32m      2\u001b[0m \u001b[0;34m\u001b[0m\u001b[0m\n\u001b[0;32m----> 3\u001b[0;31m \u001b[0mexcel_df\u001b[0m\u001b[0;34m.\u001b[0m\u001b[0mreplace\u001b[0m\u001b[0;34m(\u001b[0m\u001b[0mexcel_df\u001b[0m\u001b[0;34m[\u001b[0m\u001b[0;34m\"Fecha\"\u001b[0m\u001b[0;34m]\u001b[0m\u001b[0;34m,\u001b[0m\u001b[0mexcel_df\u001b[0m\u001b[0;34m[\u001b[0m\u001b[0;34m\"Fecha\"\u001b[0m\u001b[0;34m]\u001b[0m\u001b[0;34m.\u001b[0m\u001b[0mstrftime\u001b[0m\u001b[0;34m(\u001b[0m\u001b[0;34m\"%d/%m/%Y\"\u001b[0m\u001b[0;34m)\u001b[0m\u001b[0;34m)\u001b[0m\u001b[0;34m\u001b[0m\u001b[0;34m\u001b[0m\u001b[0m\n\u001b[0m",
      "\u001b[0;32m~/anaconda3/lib/python3.7/site-packages/pandas/core/generic.py\u001b[0m in \u001b[0;36m__getattr__\u001b[0;34m(self, name)\u001b[0m\n\u001b[1;32m   5177\u001b[0m             \u001b[0;32mif\u001b[0m \u001b[0mself\u001b[0m\u001b[0;34m.\u001b[0m\u001b[0m_info_axis\u001b[0m\u001b[0;34m.\u001b[0m\u001b[0m_can_hold_identifiers_and_holds_name\u001b[0m\u001b[0;34m(\u001b[0m\u001b[0mname\u001b[0m\u001b[0;34m)\u001b[0m\u001b[0;34m:\u001b[0m\u001b[0;34m\u001b[0m\u001b[0;34m\u001b[0m\u001b[0m\n\u001b[1;32m   5178\u001b[0m                 \u001b[0;32mreturn\u001b[0m \u001b[0mself\u001b[0m\u001b[0;34m[\u001b[0m\u001b[0mname\u001b[0m\u001b[0;34m]\u001b[0m\u001b[0;34m\u001b[0m\u001b[0;34m\u001b[0m\u001b[0m\n\u001b[0;32m-> 5179\u001b[0;31m             \u001b[0;32mreturn\u001b[0m \u001b[0mobject\u001b[0m\u001b[0;34m.\u001b[0m\u001b[0m__getattribute__\u001b[0m\u001b[0;34m(\u001b[0m\u001b[0mself\u001b[0m\u001b[0;34m,\u001b[0m \u001b[0mname\u001b[0m\u001b[0;34m)\u001b[0m\u001b[0;34m\u001b[0m\u001b[0;34m\u001b[0m\u001b[0m\n\u001b[0m\u001b[1;32m   5180\u001b[0m \u001b[0;34m\u001b[0m\u001b[0m\n\u001b[1;32m   5181\u001b[0m     \u001b[0;32mdef\u001b[0m \u001b[0m__setattr__\u001b[0m\u001b[0;34m(\u001b[0m\u001b[0mself\u001b[0m\u001b[0;34m,\u001b[0m \u001b[0mname\u001b[0m\u001b[0;34m,\u001b[0m \u001b[0mvalue\u001b[0m\u001b[0;34m)\u001b[0m\u001b[0;34m:\u001b[0m\u001b[0;34m\u001b[0m\u001b[0;34m\u001b[0m\u001b[0m\n",
      "\u001b[0;31mAttributeError\u001b[0m: 'Series' object has no attribute 'strftime'"
     ]
    }
   ],
   "source": [
    "# Obtenemos un dataframe que contenga las alicuotas para cada cuit\n",
    "\n",
    "excel_df.replace(excel_df[\"Fecha\"],excel_df[\"Fecha\"].strftime(\"%d/%m/%Y\"))"
   ]
  },
  {
   "cell_type": "code",
   "execution_count": 14,
   "metadata": {},
   "outputs": [
    {
     "ename": "SyntaxError",
     "evalue": "invalid syntax (<ipython-input-14-c54d94910bb3>, line 4)",
     "output_type": "error",
     "traceback": [
      "\u001b[0;36m  File \u001b[0;32m\"<ipython-input-14-c54d94910bb3>\"\u001b[0;36m, line \u001b[0;32m4\u001b[0m\n\u001b[0;31m    \"tipo_de_comprobante\":[ y = \"F\", for x in range(len(excel_df[\"Fecha\"]))],\u001b[0m\n\u001b[0m                         ^\u001b[0m\n\u001b[0;31mSyntaxError\u001b[0m\u001b[0;31m:\u001b[0m invalid syntax\n"
     ]
    }
   ],
   "source": [
    "d = { \n",
    "    \"cuit\":arba.pasar_string(excel_df[\"Nro.Documento\"]),\n",
    "    \"fecha\":arba.arreglo_fecha(excel_df[\"Fecha\"],\n",
    "    \"tipo_de_comprobante\":arba.valores_genericos(len(excel_df[\"Documento\"]),\"F\"),\n",
    "    \"letra_de_comprobante\":excel_df[\"Documento\"],\n",
    "    \"numero_sucursal\":arba.pasar_string(excel_df[\"Registradora\"],decimal=False, fill=4),\n",
    "    \"numero_emision\":arba.pasar_string(excel_df[\"Nro.Operación\"],decimal=False, fill=8),\n",
    "    \"monto_imponible\":arba.pasar_string((excel_df[\"Total\"]-excel_df[\"IVA\"]),decimal=True,fill=12),\n",
    "    \"importe_de_percepcion\":,\n",
    "    \"tipo_de_operacion\": arba.valores_genericos(len(excel_df[\"Documento\"]),\"A\")   \n",
    "}"
   ]
  },
  {
   "cell_type": "code",
   "execution_count": null,
   "metadata": {},
   "outputs": [],
   "source": []
  }
 ],
 "metadata": {
  "kernelspec": {
   "display_name": "Python 3.7.4 64-bit ('base': conda)",
   "language": "python",
   "name": "python37464bitbaseconda649fdd46e31240cb866a62f187d64505"
  },
  "language_info": {
   "codemirror_mode": {
    "name": "ipython",
    "version": 3
   },
   "file_extension": ".py",
   "mimetype": "text/x-python",
   "name": "python",
   "nbconvert_exporter": "python",
   "pygments_lexer": "ipython3",
   "version": "3.7.4"
  }
 },
 "nbformat": 4,
 "nbformat_minor": 4
}
