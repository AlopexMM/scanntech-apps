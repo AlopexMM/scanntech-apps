{
 "cells": [
  {
   "cell_type": "markdown",
   "metadata": {},
   "source": [
    "# Datos\n",
    "\n",
    "La exportacion debe contener los siguientes datos\n",
    "\n",
    "| IDCampo | Concepto | Tipo | Longitud | Separador ||\n",
    "|---------|----------|------|----------|-----------|---|\n",
    "|1| Tipo de Agente | Numérico | 1 | NO ||\n",
    "|2 | Motivo Movimiento | Numérico | 3 |NO||\n",
    "|3 | CUIT del cliente/ proveedor | CUIT |11 |NO||\n",
    "|4 | Fecha Percepcion | Fecha |10 |SI |/|\n",
    "|5 | Tipo de Comprobante | Texto |6 |NO||\n",
    "|6 | Letra Comprobante | Texto |1| NO||\n",
    "|7 | Numero Comprobante | Texto |12 |NO||\n",
    "|8 | Importe Base | Numérico |15 | SI |.|\n",
    "|9 | Alicuota | Numérico | 6 |SI |.|\n",
    "|10| Importe Percibido | Numérico | 15 | SI| . | \n",
    "|11| Anulación | Numérico | 1 | NO||\n",
    "|12| Contribuyente Conv. Multilat. | Numérico | 1 | NO||\n",
    "\n",
    "**Alicuota: 3%**\n",
    "\n",
    "**Tipo de Archivo: .txt**\n",
    "\n",
    "**Ejemplo de una línea del archivo de importación:**\n",
    "\n",
    "11942011111111201/06/2019F A123476789012000000000100.12002.00000000000010.0001\n",
    "\n",
    "1612095500069302/12/2019     FA000100006265000000000637,18003,00000000000019,1200\n",
    "\n"
   ]
  },
  {
   "cell_type": "code",
   "execution_count": 61,
   "metadata": {},
   "outputs": [],
   "source": [
    "from time import strftime\n",
    "import pandas as pd\n",
    "\n",
    "\n",
    "def valores_genericos(rango, valor):\n",
    "    lista = []\n",
    "    for x in range(rango):\n",
    "        lista.append(valor)\n",
    "    return lista\n",
    "\n",
    "def monto_alicuota(monto,alicuota):\n",
    "    return [x * alicuota / 100 for x in monto]\n",
    "\n",
    "def arreglo_fecha(fechas):\n",
    "    lista = []\n",
    "    for x in fechas:\n",
    "        lista.append(x.strftime(\"%d/%m/%Y\"))\n",
    "    return lista\n",
    "\n",
    "def pasar_string(datos,fill=None,decimal=None):\n",
    "    lista = []\n",
    "    if decimal:\n",
    "        for x in datos:\n",
    "            x = format(x,\".2f\")\n",
    "            lista.append(str(x).replace(\".\",\",\").zfill(fill))\n",
    "    elif decimal == False:\n",
    "        for x in datos:\n",
    "            x = str(x).split(\".\")\n",
    "            lista.append(x[0].zfill(fill))\n",
    "    else:\n",
    "        for x in range(len(datos)):\n",
    "            lista.append(str(datos[x]))\n",
    "    return lista\n",
    "\n",
    "def escribir_reporte(datos):\n",
    "    with open(\"ater.txt\",\"w\",encoding=\"latin-1\") as file:\n",
    "        file.writelines(datos)\n",
    "    return\n",
    "    "
   ]
  },
  {
   "cell_type": "code",
   "execution_count": 62,
   "metadata": {},
   "outputs": [],
   "source": [
    "excel_file = \"/home/mario/scanntech/10139/Percepciones/aterpy/tickets.xlsx\"\n",
    "excel = pd.read_excel(excel_file, header=2 , skipfooter=15, convert_float=False)\n",
    "cant_rows = excel[\"Fecha\"].count()"
   ]
  },
  {
   "cell_type": "markdown",
   "metadata": {},
   "source": [
    "Calculamos los datos necesarios para la formación del dataframe final de la exportación\n",
    "primer valor 016\n",
    "Linea de ejemplo:\n",
    "1612095500069302/12/2019     FA000100006265000000000637,18003,00000000000019,1200"
   ]
  },
  {
   "cell_type": "code",
   "execution_count": 63,
   "metadata": {},
   "outputs": [],
   "source": [
    "tipo_agente = valores_genericos(cant_rows,\"016\")\n",
    "tipo_comprobante = valores_genericos(cant_rows,\"     F\")\n",
    "importe_base = excel[\"Total\"]-excel[\"IVA\"]\n",
    "alicuota = valores_genericos(cant_rows,\"003,00\")\n",
    "importe_percibido = monto_alicuota((excel[\"Total\"]-excel[\"IVA\"]), 3)\n",
    "contribuyente_conv_multilat = valores_genericos(cant_rows,\"00\")"
   ]
  },
  {
   "cell_type": "code",
   "execution_count": 64,
   "metadata": {},
   "outputs": [],
   "source": [
    "d = {\"tipo_agente\":tipo_agente,\n",
    "     \"cuit\":pasar_string(excel[\"Nro.Documento\"]),\n",
    "     \"fecha_percepcion\":arreglo_fecha(excel[\"Fecha\"]),\n",
    "     \"tipo_comprobante\":tipo_comprobante,\n",
    "     \"letra_comprobante\":excel[\"Tipo de Factura\"],\n",
    "     \"punto_de_venta\":pasar_string(excel[\"Registradora\"],fill=4,decimal=False),\n",
    "     \"numero_comprobante\":pasar_string(excel[\"Nro.Operación\"],fill=8,decimal=False),\n",
    "     \"importe_base\":pasar_string(importe_base,fill=15,decimal=True),\n",
    "     \"alicuota\":alicuota,\n",
    "     \"importe_percibido\":pasar_string(importe_percibido,fill=15,decimal=True),\n",
    "     \"contibuyente_conv_multi\":contribuyente_conv_multilat}\n",
    "\n",
    "df = pd.DataFrame(data=d)\n",
    "df[\"letra_comprobante\"].fillna(\"A\",inplace=True)\n",
    "#df.to_csv(\"prueba.csv\",index=False)"
   ]
  },
  {
   "cell_type": "code",
   "execution_count": 65,
   "metadata": {},
   "outputs": [],
   "source": [
    "reporte_ater = []\n",
    "for x in range(cant_rows):\n",
    "    if df[\"cuit\"][x] != \"0\" and df[\"cuit\"][x] != \"11111111113\":\n",
    "        y = (df[\"tipo_agente\"][x]+\n",
    "            df[\"cuit\"][x]+\n",
    "            df[\"fecha_percepcion\"][x]+\n",
    "            df[\"tipo_comprobante\"][x]+\n",
    "            df[\"letra_comprobante\"][x]+\n",
    "            df[\"punto_de_venta\"][x]+\n",
    "            df[\"numero_comprobante\"][x]+\n",
    "            df[\"importe_base\"][x]+\n",
    "            df[\"alicuota\"][x]+\n",
    "            df[\"importe_percibido\"][x]+\n",
    "            df[\"contibuyente_conv_multi\"][x])\n",
    "    reporte_ater.append(y+\"\\r\\n\")"
   ]
  },
  {
   "cell_type": "code",
   "execution_count": 66,
   "metadata": {},
   "outputs": [],
   "source": [
    "escribir_reporte(reporte_ater)"
   ]
  },
  {
   "cell_type": "code",
   "execution_count": null,
   "metadata": {},
   "outputs": [],
   "source": []
  }
 ],
 "metadata": {
  "kernelspec": {
   "display_name": "Python 3.7.4 64-bit ('base': conda)",
   "language": "python",
   "name": "python37464bitbaseconda649fdd46e31240cb866a62f187d64505"
  },
  "language_info": {
   "codemirror_mode": {
    "name": "ipython",
    "version": 3
   },
   "file_extension": ".py",
   "mimetype": "text/x-python",
   "name": "python",
   "nbconvert_exporter": "python",
   "pygments_lexer": "ipython3",
   "version": "3.7.4"
  }
 },
 "nbformat": 4,
 "nbformat_minor": 4
}
